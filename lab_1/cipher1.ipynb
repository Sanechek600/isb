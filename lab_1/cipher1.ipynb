{
 "cells": [
  {
   "cell_type": "code",
   "execution_count": 1,
   "metadata": {},
   "outputs": [],
   "source": [
    "input_text = \"r2Я Ь9К>>К2ЙЬБt ЬrДЫt12<Д>>tr82tМ<КЫ1ХО>12>t<rЬЧ82ЯК КБrtАДХО>12ЯЬ2ЙЬБЬrЬ<02Я Ь>О ДЫ>Оr02ЬЕК>ЯКatrД12r2Е0Б0cК<2Ф..КЙОtrЫЬК2ЯЬ2r К<КЫt2БКЙЬБt ЬrДЫtК2>ЛДОЬАЬ2ОКЙ>ОД2ЫЬ2r<К>ОК2>2tМ<КЫКЫtК<2 Д>ЯЬЧЬЛКЫt12ЬО КМЙЬr2>ЬЬОrКО>Оr0Хct32>t<rЬЧД<2r2ЙЬБЬrЬ<2Я Ь>О ДЫ>ОrК2tМ<КЫ1КО>12ОДЙЛК2t2Я КБ>ОДrЧКЫt12>ЛДО832>t<rЬЧЬr2ОЬ2К>О,2r2ЫДbt32ОК <tЫД32bt. ЬЕЬМЫДaКЫt1?2ЫДЯ t<К 2ЯК КБrtЫ0r2>t<rЬЧ2r2tМ2ЙЬЫ9Д2ЙЬБЬrЬАЬ2Я Ь>О ДЫ>ОrД2r2ЫДaДЧЬ2ЙЬБt 0ХcКК2МЫДaКЫtК2<ЬЛКО2r8АЧ1БКО,2ЫК2ЙДЙ2МДЯЧДЫt ЬrДЫЫЬК2tМЫДaДЧ,ЫЬ2Д2ЯЬБ 0АЬ<02>ЬЬОrКО>ОrКЫЫЬ2<КЫ1ХО>12t2ЕtО82ЙЬБt 0ХctК2ЫДbК2 КМ0Ч,Оt 0ХcКК2МЫДaКЫtК2rБЬЕДrЬЙ2ДБДЯОtrЫЬ<2ДЧАЬ tО<К2r>К2<КЫ1КО>12БtЫД<taК>Йt2ЯЬ>ЧК2tМ<КЫКЫt12ЙДЛБЬАЬ2>t<r ЬЧД\""
   ]
  },
  {
   "cell_type": "code",
   "execution_count": 2,
   "metadata": {},
   "outputs": [
    {
     "name": "stdout",
     "output_type": "stream",
     "text": [
      "Символ\t\tКоличество\tВероятность\n",
      "------------------------------------\n",
      "'2'\t\t79\t\t0.1204\n",
      "'К'\t\t61\t\t0.0930\n",
      "'Ь'\t\t60\t\t0.0915\n",
      "'t'\t\t46\t\t0.0701\n",
      "'Ы'\t\t41\t\t0.0625\n",
      "'r'\t\t40\t\t0.0610\n",
      "'Д'\t\t40\t\t0.0610\n",
      "'>'\t\t36\t\t0.0549\n",
      "'О'\t\t35\t\t0.0534\n",
      "' '\t\t27\t\t0.0412\n",
      "'<'\t\t26\t\t0.0396\n",
      "'Б'\t\t18\t\t0.0274\n",
      "'Й'\t\t17\t\t0.0259\n",
      "'Я'\t\t16\t\t0.0244\n",
      "'1'\t\t16\t\t0.0244\n",
      "'Ч'\t\t14\t\t0.0213\n",
      "'М'\t\t12\t\t0.0183\n",
      "'0'\t\t12\t\t0.0183\n",
      "'Х'\t\t7\t\t0.0107\n",
      "'А'\t\t7\t\t0.0107\n",
      "'a'\t\t7\t\t0.0107\n",
      "'Л'\t\t6\t\t0.0091\n",
      "'8'\t\t5\t\t0.0076\n",
      "'Е'\t\t5\t\t0.0076\n",
      "'c'\t\t5\t\t0.0076\n",
      "'3'\t\t4\t\t0.0061\n",
      "','\t\t4\t\t0.0061\n",
      "'.'\t\t3\t\t0.0046\n",
      "'b'\t\t3\t\t0.0046\n",
      "'9'\t\t2\t\t0.0030\n",
      "'Ф'\t\t1\t\t0.0015\n",
      "'?'\t\t1\t\t0.0015\n"
     ]
    }
   ],
   "source": [
    "def count_and_calculate_probability(text):\n",
    "# Инициализация словаря для хранения количества каждого символа\n",
    "    char_count = {}\n",
    "    total_chars = 0\n",
    "\n",
    "    # Подсчет количества символов\n",
    "    for char in text:\n",
    "        if char.isprintable(): # Игнорируем неотображаемые символы\n",
    "            char_count[char] = char_count.get(char, 0) + 1\n",
    "            total_chars += 1\n",
    "\n",
    "            # Расчет вероятности встречи каждого символа\n",
    "    probabilities = {char: count / total_chars for char, count in char_count.items()}\n",
    "\n",
    "            # Сортировка символов по убыванию вероятности\n",
    "    sorted_char_count = sorted(char_count.items(), key=lambda x: x[1], reverse=True)\n",
    "\n",
    "            # Вывод результатов\n",
    "    print(\"Символ\\t\\tКоличество\\tВероятность\")\n",
    "    print(\"------------------------------------\")\n",
    "    for char, count in sorted_char_count:\n",
    "        probability = probabilities[char]\n",
    "        print(f\"{repr(char)}\\t\\t{count}\\t\\t{probability:.4f}\")\n",
    "\n",
    "count_and_calculate_probability(input_text)"
   ]
  },
  {
   "cell_type": "code",
   "execution_count": 5,
   "metadata": {},
   "outputs": [],
   "source": [
    "text = \"r2Я Ь9К>>К2ЙЬБt ЬrДЫt12<Д>>tr82tМ<КЫ1ХО>12>t<rЬЧ82ЯК КБrtАДХО>12ЯЬ2ЙЬБЬrЬ<02Я Ь>О ДЫ>Оr02ЬЕК>ЯКatrД12r2Е0Б0cК<2Ф..КЙОtrЫЬК2ЯЬ2r К<КЫt2БКЙЬБt ЬrДЫtК2>ЛДОЬАЬ2ОКЙ>ОД2ЫЬ2r<К>ОК2>2tМ<КЫКЫtК<2 Д>ЯЬЧЬЛКЫt12ЬО КМЙЬr2>ЬЬОrКО>Оr0Хct32>t<rЬЧД<2r2ЙЬБЬrЬ<2Я Ь>О ДЫ>ОrК2tМ<КЫ1КО>12ОДЙЛК2t2Я КБ>ОДrЧКЫt12>ЛДО832>t<rЬЧЬr2ОЬ2К>О,2r2ЫДbt32ОК <tЫД32bt. ЬЕЬМЫДaКЫt1?2ЫДЯ t<К 2ЯК КБrtЫ0r2>t<rЬЧ2r2tМ2ЙЬЫ9Д2ЙЬБЬrЬАЬ2Я Ь>О ДЫ>ОrД2r2ЫДaДЧЬ2ЙЬБt 0ХcКК2МЫДaКЫtК2<ЬЛКО2r8АЧ1БКО,2ЫК2ЙДЙ2МДЯЧДЫt ЬrДЫЫЬК2tМЫДaДЧ,ЫЬ2Д2ЯЬБ 0АЬ<02>ЬЬОrКО>ОrКЫЫЬ2<КЫ1ХО>12t2ЕtО82ЙЬБt 0ХctК2ЫДbК2 КМ0Ч,Оt 0ХcКК2МЫДaКЫtК2rБЬЕДrЬЙ2ДБДЯОtrЫЬ<2ДЧАЬ tО<К2r>К2<КЫ1КО>12БtЫД<taК>Йt2ЯЬ>ЧК2tМ<КЫКЫt12ЙДЛБЬАЬ2>t<r ЬЧД\"\n",
    "old_character = \"К\"\n",
    "new_character = \"О\""
   ]
  },
  {
   "cell_type": "code",
   "execution_count": 6,
   "metadata": {},
   "outputs": [
    {
     "name": "stdout",
     "output_type": "stream",
     "text": [
      "Результат замены: r2Я Ь9О>>О2ЙЬБt ЬrДЫt12<Д>>tr82tМ<ОЫ1ХО>12>t<rЬЧ82ЯО ОБrtАДХО>12ЯЬ2ЙЬБЬrЬ<02Я Ь>О ДЫ>Оr02ЬЕО>ЯОatrД12r2Е0Б0cО<2Ф..ОЙОtrЫЬО2ЯЬ2r О<ОЫt2БОЙЬБt ЬrДЫtО2>ЛДОЬАЬ2ООЙ>ОД2ЫЬ2r<О>ОО2>2tМ<ОЫОЫtО<2 Д>ЯЬЧЬЛОЫt12ЬО ОМЙЬr2>ЬЬОrОО>Оr0Хct32>t<rЬЧД<2r2ЙЬБЬrЬ<2Я Ь>О ДЫ>ОrО2tМ<ОЫ1ОО>12ОДЙЛО2t2Я ОБ>ОДrЧОЫt12>ЛДО832>t<rЬЧЬr2ОЬ2О>О,2r2ЫДbt32ОО <tЫД32bt. ЬЕЬМЫДaОЫt1?2ЫДЯ t<О 2ЯО ОБrtЫ0r2>t<rЬЧ2r2tМ2ЙЬЫ9Д2ЙЬБЬrЬАЬ2Я Ь>О ДЫ>ОrД2r2ЫДaДЧЬ2ЙЬБt 0ХcОО2МЫДaОЫtО2<ЬЛОО2r8АЧ1БОО,2ЫО2ЙДЙ2МДЯЧДЫt ЬrДЫЫЬО2tМЫДaДЧ,ЫЬ2Д2ЯЬБ 0АЬ<02>ЬЬОrОО>ОrОЫЫЬ2<ОЫ1ХО>12t2ЕtО82ЙЬБt 0ХctО2ЫДbО2 ОМ0Ч,Оt 0ХcОО2МЫДaОЫtО2rБЬЕДrЬЙ2ДБДЯОtrЫЬ<2ДЧАЬ tО<О2r>О2<ОЫ1ОО>12БtЫД<taО>Йt2ЯЬ>ЧО2tМ<ОЫОЫt12ЙДЛБЬАЬ2>t<r ЬЧД\n"
     ]
    }
   ],
   "source": [
    "def replace_char(input_text, old_char, new_char):\n",
    "# Преобразование строки в список символов\n",
    "    text_list = list(input_text)\n",
    "\n",
    "    # Замена символов\n",
    "    for i in range(len(text_list)):\n",
    "        if text_list[i] == old_char:\n",
    "            text_list[i] = new_char\n",
    "\n",
    "    # Преобразование списка символов обратно в строку\n",
    "    result_text = ''.join(text_list)\n",
    "\n",
    "    return result_text\n",
    "\n",
    "result = replace_char(text, old_character, new_character)\n",
    "print(\"Результат замены:\", result)"
   ]
  }
 ],
 "metadata": {
  "kernelspec": {
   "display_name": "Python 3",
   "language": "python",
   "name": "python3"
  },
  "language_info": {
   "codemirror_mode": {
    "name": "ipython",
    "version": 3
   },
   "file_extension": ".py",
   "mimetype": "text/x-python",
   "name": "python",
   "nbconvert_exporter": "python",
   "pygments_lexer": "ipython3",
   "version": "3.10.8"
  }
 },
 "nbformat": 4,
 "nbformat_minor": 2
}
